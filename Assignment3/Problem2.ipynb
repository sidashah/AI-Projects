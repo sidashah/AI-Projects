{
 "cells": [
  {
   "cell_type": "code",
   "execution_count": 31,
   "metadata": {
    "collapsed": true
   },
   "outputs": [],
   "source": [
    "import numpy as np\n",
    "import csv, sys\n",
    "%matplotlib inline\n",
    "from matplotlib import cm\n",
    "import matplotlib.pyplot as plt\n",
    "from mpl_toolkits.mplot3d import Axes3D\n",
    "from matplotlib.ticker import LinearLocator, FormatStrFormatter\n",
    "from scipy.interpolate import griddata\n",
    "from matplotlib.ticker import MaxNLocator"
   ]
  },
  {
   "cell_type": "code",
   "execution_count": 254,
   "metadata": {
    "collapsed": false
   },
   "outputs": [],
   "source": [
    "with open('input2.csv', 'rb') as csvfile:\n",
    "    data = list(csv.reader(csvfile, delimiter=','))\n",
    "csv_data = np.array(data, dtype=np.double)\n",
    "values = csv_data[:,2]\n",
    "features = csv_data[:,[0,1]]\n",
    "n = features.shape[0]\n",
    "outputfilename = \"out3.csv\""
   ]
  },
  {
   "cell_type": "code",
   "execution_count": 270,
   "metadata": {
    "collapsed": true
   },
   "outputs": [],
   "source": [
    "final_output = []"
   ]
  },
  {
   "cell_type": "code",
   "execution_count": 255,
   "metadata": {
    "collapsed": false,
    "scrolled": true
   },
   "outputs": [],
   "source": [
    "stddev = np.std(features, axis=0,ddof=1)"
   ]
  },
  {
   "cell_type": "code",
   "execution_count": 256,
   "metadata": {
    "collapsed": false,
    "scrolled": true
   },
   "outputs": [
    {
     "data": {
      "text/plain": [
       "array([[1.91161892641583341934, 6.15654350333868372047],\n",
       "       [1.91161892641583341934, 6.15654350333868372047],\n",
       "       [1.91161892641583341934, 6.15654350333868372047],\n",
       "       [1.91161892641583341934, 6.15654350333868372047],\n",
       "       [1.91161892641583341934, 6.15654350333868372047],\n",
       "       [1.91161892641583341934, 6.15654350333868372047],\n",
       "       [1.91161892641583341934, 6.15654350333868372047],\n",
       "       [1.91161892641583341934, 6.15654350333868372047],\n",
       "       [1.91161892641583341934, 6.15654350333868372047],\n",
       "       [1.91161892641583341934, 6.15654350333868372047],\n",
       "       [1.91161892641583341934, 6.15654350333868372047],\n",
       "       [1.91161892641583341934, 6.15654350333868372047],\n",
       "       [1.91161892641583341934, 6.15654350333868372047],\n",
       "       [1.91161892641583341934, 6.15654350333868372047],\n",
       "       [1.91161892641583341934, 6.15654350333868372047],\n",
       "       [1.91161892641583341934, 6.15654350333868372047],\n",
       "       [1.91161892641583341934, 6.15654350333868372047],\n",
       "       [1.91161892641583341934, 6.15654350333868372047],\n",
       "       [1.91161892641583341934, 6.15654350333868372047],\n",
       "       [1.91161892641583341934, 6.15654350333868372047],\n",
       "       [1.91161892641583341934, 6.15654350333868372047],\n",
       "       [1.91161892641583341934, 6.15654350333868372047],\n",
       "       [1.91161892641583341934, 6.15654350333868372047],\n",
       "       [1.91161892641583341934, 6.15654350333868372047],\n",
       "       [1.91161892641583341934, 6.15654350333868372047],\n",
       "       [1.91161892641583341934, 6.15654350333868372047],\n",
       "       [1.91161892641583341934, 6.15654350333868372047],\n",
       "       [1.91161892641583341934, 6.15654350333868372047],\n",
       "       [1.91161892641583341934, 6.15654350333868372047],\n",
       "       [1.91161892641583341934, 6.15654350333868372047],\n",
       "       [1.91161892641583341934, 6.15654350333868372047],\n",
       "       [1.91161892641583341934, 6.15654350333868372047],\n",
       "       [1.91161892641583341934, 6.15654350333868372047],\n",
       "       [1.91161892641583341934, 6.15654350333868372047],\n",
       "       [1.91161892641583341934, 6.15654350333868372047],\n",
       "       [1.91161892641583341934, 6.15654350333868372047],\n",
       "       [1.91161892641583341934, 6.15654350333868372047],\n",
       "       [1.91161892641583341934, 6.15654350333868372047],\n",
       "       [1.91161892641583341934, 6.15654350333868372047],\n",
       "       [1.91161892641583341934, 6.15654350333868372047],\n",
       "       [1.91161892641583341934, 6.15654350333868372047],\n",
       "       [1.91161892641583341934, 6.15654350333868372047],\n",
       "       [1.91161892641583341934, 6.15654350333868372047],\n",
       "       [1.91161892641583341934, 6.15654350333868372047],\n",
       "       [1.91161892641583341934, 6.15654350333868372047],\n",
       "       [1.91161892641583341934, 6.15654350333868372047],\n",
       "       [1.91161892641583341934, 6.15654350333868372047],\n",
       "       [1.91161892641583341934, 6.15654350333868372047],\n",
       "       [1.91161892641583341934, 6.15654350333868372047],\n",
       "       [1.91161892641583341934, 6.15654350333868372047],\n",
       "       [1.91161892641583341934, 6.15654350333868372047],\n",
       "       [1.91161892641583341934, 6.15654350333868372047],\n",
       "       [1.91161892641583341934, 6.15654350333868372047],\n",
       "       [1.91161892641583341934, 6.15654350333868372047],\n",
       "       [1.91161892641583341934, 6.15654350333868372047],\n",
       "       [1.91161892641583341934, 6.15654350333868372047],\n",
       "       [1.91161892641583341934, 6.15654350333868372047],\n",
       "       [1.91161892641583341934, 6.15654350333868372047],\n",
       "       [1.91161892641583341934, 6.15654350333868372047],\n",
       "       [1.91161892641583341934, 6.15654350333868372047],\n",
       "       [1.91161892641583341934, 6.15654350333868372047],\n",
       "       [1.91161892641583341934, 6.15654350333868372047],\n",
       "       [1.91161892641583341934, 6.15654350333868372047],\n",
       "       [1.91161892641583341934, 6.15654350333868372047],\n",
       "       [1.91161892641583341934, 6.15654350333868372047],\n",
       "       [1.91161892641583341934, 6.15654350333868372047],\n",
       "       [1.91161892641583341934, 6.15654350333868372047],\n",
       "       [1.91161892641583341934, 6.15654350333868372047],\n",
       "       [1.91161892641583341934, 6.15654350333868372047],\n",
       "       [1.91161892641583341934, 6.15654350333868372047],\n",
       "       [1.91161892641583341934, 6.15654350333868372047],\n",
       "       [1.91161892641583341934, 6.15654350333868372047],\n",
       "       [1.91161892641583341934, 6.15654350333868372047],\n",
       "       [1.91161892641583341934, 6.15654350333868372047],\n",
       "       [1.91161892641583341934, 6.15654350333868372047],\n",
       "       [1.91161892641583341934, 6.15654350333868372047],\n",
       "       [1.91161892641583341934, 6.15654350333868372047],\n",
       "       [1.91161892641583341934, 6.15654350333868372047],\n",
       "       [1.91161892641583341934, 6.15654350333868372047]])"
      ]
     },
     "execution_count": 256,
     "metadata": {},
     "output_type": "execute_result"
    }
   ],
   "source": [
    "stddev_tiles = np.tile(stddev, (features.shape[0],1))\n",
    "stddev_tiles"
   ]
  },
  {
   "cell_type": "code",
   "execution_count": 257,
   "metadata": {
    "collapsed": false,
    "scrolled": true
   },
   "outputs": [
    {
     "data": {
      "text/plain": [
       "array([[5.21050632911392330726, 18.30660430379746728136],\n",
       "       [5.21050632911392330726, 18.30660430379746728136],\n",
       "       [5.21050632911392330726, 18.30660430379746728136],\n",
       "       [5.21050632911392330726, 18.30660430379746728136],\n",
       "       [5.21050632911392330726, 18.30660430379746728136],\n",
       "       [5.21050632911392330726, 18.30660430379746728136],\n",
       "       [5.21050632911392330726, 18.30660430379746728136],\n",
       "       [5.21050632911392330726, 18.30660430379746728136],\n",
       "       [5.21050632911392330726, 18.30660430379746728136],\n",
       "       [5.21050632911392330726, 18.30660430379746728136],\n",
       "       [5.21050632911392330726, 18.30660430379746728136],\n",
       "       [5.21050632911392330726, 18.30660430379746728136],\n",
       "       [5.21050632911392330726, 18.30660430379746728136],\n",
       "       [5.21050632911392330726, 18.30660430379746728136],\n",
       "       [5.21050632911392330726, 18.30660430379746728136],\n",
       "       [5.21050632911392330726, 18.30660430379746728136],\n",
       "       [5.21050632911392330726, 18.30660430379746728136],\n",
       "       [5.21050632911392330726, 18.30660430379746728136],\n",
       "       [5.21050632911392330726, 18.30660430379746728136],\n",
       "       [5.21050632911392330726, 18.30660430379746728136],\n",
       "       [5.21050632911392330726, 18.30660430379746728136],\n",
       "       [5.21050632911392330726, 18.30660430379746728136],\n",
       "       [5.21050632911392330726, 18.30660430379746728136],\n",
       "       [5.21050632911392330726, 18.30660430379746728136],\n",
       "       [5.21050632911392330726, 18.30660430379746728136],\n",
       "       [5.21050632911392330726, 18.30660430379746728136],\n",
       "       [5.21050632911392330726, 18.30660430379746728136],\n",
       "       [5.21050632911392330726, 18.30660430379746728136],\n",
       "       [5.21050632911392330726, 18.30660430379746728136],\n",
       "       [5.21050632911392330726, 18.30660430379746728136],\n",
       "       [5.21050632911392330726, 18.30660430379746728136],\n",
       "       [5.21050632911392330726, 18.30660430379746728136],\n",
       "       [5.21050632911392330726, 18.30660430379746728136],\n",
       "       [5.21050632911392330726, 18.30660430379746728136],\n",
       "       [5.21050632911392330726, 18.30660430379746728136],\n",
       "       [5.21050632911392330726, 18.30660430379746728136],\n",
       "       [5.21050632911392330726, 18.30660430379746728136],\n",
       "       [5.21050632911392330726, 18.30660430379746728136],\n",
       "       [5.21050632911392330726, 18.30660430379746728136],\n",
       "       [5.21050632911392330726, 18.30660430379746728136],\n",
       "       [5.21050632911392330726, 18.30660430379746728136],\n",
       "       [5.21050632911392330726, 18.30660430379746728136],\n",
       "       [5.21050632911392330726, 18.30660430379746728136],\n",
       "       [5.21050632911392330726, 18.30660430379746728136],\n",
       "       [5.21050632911392330726, 18.30660430379746728136],\n",
       "       [5.21050632911392330726, 18.30660430379746728136],\n",
       "       [5.21050632911392330726, 18.30660430379746728136],\n",
       "       [5.21050632911392330726, 18.30660430379746728136],\n",
       "       [5.21050632911392330726, 18.30660430379746728136],\n",
       "       [5.21050632911392330726, 18.30660430379746728136],\n",
       "       [5.21050632911392330726, 18.30660430379746728136],\n",
       "       [5.21050632911392330726, 18.30660430379746728136],\n",
       "       [5.21050632911392330726, 18.30660430379746728136],\n",
       "       [5.21050632911392330726, 18.30660430379746728136],\n",
       "       [5.21050632911392330726, 18.30660430379746728136],\n",
       "       [5.21050632911392330726, 18.30660430379746728136],\n",
       "       [5.21050632911392330726, 18.30660430379746728136],\n",
       "       [5.21050632911392330726, 18.30660430379746728136],\n",
       "       [5.21050632911392330726, 18.30660430379746728136],\n",
       "       [5.21050632911392330726, 18.30660430379746728136],\n",
       "       [5.21050632911392330726, 18.30660430379746728136],\n",
       "       [5.21050632911392330726, 18.30660430379746728136],\n",
       "       [5.21050632911392330726, 18.30660430379746728136],\n",
       "       [5.21050632911392330726, 18.30660430379746728136],\n",
       "       [5.21050632911392330726, 18.30660430379746728136],\n",
       "       [5.21050632911392330726, 18.30660430379746728136],\n",
       "       [5.21050632911392330726, 18.30660430379746728136],\n",
       "       [5.21050632911392330726, 18.30660430379746728136],\n",
       "       [5.21050632911392330726, 18.30660430379746728136],\n",
       "       [5.21050632911392330726, 18.30660430379746728136],\n",
       "       [5.21050632911392330726, 18.30660430379746728136],\n",
       "       [5.21050632911392330726, 18.30660430379746728136],\n",
       "       [5.21050632911392330726, 18.30660430379746728136],\n",
       "       [5.21050632911392330726, 18.30660430379746728136],\n",
       "       [5.21050632911392330726, 18.30660430379746728136],\n",
       "       [5.21050632911392330726, 18.30660430379746728136],\n",
       "       [5.21050632911392330726, 18.30660430379746728136],\n",
       "       [5.21050632911392330726, 18.30660430379746728136],\n",
       "       [5.21050632911392330726, 18.30660430379746728136]])"
      ]
     },
     "execution_count": 257,
     "metadata": {},
     "output_type": "execute_result"
    }
   ],
   "source": [
    "mean = np.mean(features, axis=0)\n",
    "mean_tiles = np.tile(mean, (features.shape[0],1))\n",
    "mean_tiles"
   ]
  },
  {
   "cell_type": "code",
   "execution_count": 201,
   "metadata": {
    "collapsed": false
   },
   "outputs": [
    {
     "data": {
      "text/plain": [
       "array([[-0.02000000000000001776, -1.43293000000000070315],\n",
       "       [0.02000000000000001776, 1.43292999999999892680]])"
      ]
     },
     "execution_count": 201,
     "metadata": {},
     "output_type": "execute_result"
    }
   ],
   "source": []
  },
  {
   "cell_type": "code",
   "execution_count": 258,
   "metadata": {
    "collapsed": false,
    "scrolled": true
   },
   "outputs": [
    {
     "data": {
      "text/plain": [
       "array([[1.00000000000000000000, -1.67946983823466466923,\n",
       "        -1.31507790035217619895],\n",
       "       [1.00000000000000000000, -1.65854516572423005272,\n",
       "        -0.84957968719964216397],\n",
       "       [1.00000000000000000000, -1.61146465257575211005,\n",
       "        -1.11420219804789777385],\n",
       "       [1.00000000000000000000, -1.56961530755488287703,\n",
       "        -0.62807390245850236443],\n",
       "       [1.00000000000000000000, -1.52776596253401342196,\n",
       "        -0.92753089468152616348],\n",
       "       [1.00000000000000000000, -1.48068544938553570134,\n",
       "        -1.26478506967014037166],\n",
       "       [1.00000000000000000000, -1.43883610436466624627,\n",
       "        -0.87897280362964291811],\n",
       "       [1.00000000000000000000, -1.39698675934379679120,\n",
       "        -1.00538302059277429024],\n",
       "       [1.00000000000000000000, -1.34990624619531907058,\n",
       "        -0.25107502334048414916],\n",
       "       [1.00000000000000000000, -1.30805690117444961551,\n",
       "        -1.15280015481879294370],\n",
       "       [1.00000000000000000000, -1.26620755615358038249,\n",
       "        -0.78249659101490298685],\n",
       "       [1.00000000000000000000, -1.21912704300510243982,\n",
       "        -1.04780617570543821415],\n",
       "       [1.00000000000000000000, -1.17727769798423298475,\n",
       "        -1.09855218275153077023],\n",
       "       [1.00000000000000000000, -1.13542835296336375173,\n",
       "        -0.87782768055917714811],\n",
       "       [1.00000000000000000000, -1.08834783981488580906,\n",
       "        -0.85619216382356633233],\n",
       "       [1.00000000000000000000, -1.04649849479401635399,\n",
       "        -1.04353754672787180091],\n",
       "       [1.00000000000000000000, -1.00464914977314712097,\n",
       "        -1.02488584712764518869],\n",
       "       [1.00000000000000000000, -0.95756863662466917830,\n",
       "        -1.05201795460149227779],\n",
       "       [1.00000000000000000000, -0.91571929160379983426,\n",
       "        -0.91041739585822334391],\n",
       "       [1.00000000000000000000, -0.87386994658293049021,\n",
       "        0.20805110781852109714],\n",
       "       [1.00000000000000000000, -0.82678943343445254754,\n",
       "        -0.29979067033255912822],\n",
       "       [1.00000000000000000000, -0.78494008841358320350,\n",
       "        -0.50343091088638791675],\n",
       "       [1.00000000000000000000, -0.74309074339271385945,\n",
       "        -0.47656193807554164676],\n",
       "       [1.00000000000000000000, -0.69601023024423602781,\n",
       "        -0.65162445479706254670],\n",
       "       [1.00000000000000000000, -0.65416088522336668376,\n",
       "        -0.78448471957979692970],\n",
       "       [1.00000000000000000000, -0.61231154020249722869,\n",
       "        -0.76267540402356215345],\n",
       "       [1.00000000000000000000, -0.56523102705401939705,\n",
       "        -0.82643195829579885192],\n",
       "       [1.00000000000000000000, -0.52338168203315005300,\n",
       "        -0.85798050495914501834],\n",
       "       [1.00000000000000000000, -0.48153233701228065344,\n",
       "        -0.04174327748323363590],\n",
       "       [1.00000000000000000000, -0.43445182386380276629,\n",
       "        -0.00832842385823483362],\n",
       "       [1.00000000000000000000, -0.39260247884293342224,\n",
       "        -0.79550064108887441616],\n",
       "       [1.00000000000000000000, -0.35075313382206407820,\n",
       "        -0.45393560563357027160],\n",
       "       [1.00000000000000000000, -0.30367262067358619104,\n",
       "        -0.42830109173556635271],\n",
       "       [1.00000000000000000000, -0.26182327565271679148,\n",
       "        -0.16535484614790760260],\n",
       "       [1.00000000000000000000, -0.21997393063184747519,\n",
       "        -0.65228066716652099988],\n",
       "       [1.00000000000000000000, -0.17289341748336956028,\n",
       "        0.54042104866119078377],\n",
       "       [1.00000000000000000000, -0.13104407246250021624,\n",
       "        -0.66591494100125947497],\n",
       "       [1.00000000000000000000, -0.08919472744163087219,\n",
       "        -0.64384086649398097890],\n",
       "       [1.00000000000000000000, -0.04211421429315296422,\n",
       "        0.30239950309665108996],\n",
       "       [1.00000000000000000000, -0.00026486927228361269,\n",
       "        1.18192061702422357428],\n",
       "       [1.00000000000000000000, 0.04158447574858573775,\n",
       "        0.04533480451346977302],\n",
       "       [1.00000000000000000000, 0.08866498889706364572,\n",
       "        -0.55454887989437640083],\n",
       "       [1.00000000000000000000, 0.13051433391793298977,\n",
       "        -0.36369665910477200210],\n",
       "       [1.00000000000000000000, 0.17236367893880233382,\n",
       "        -0.44545682204799291748],\n",
       "       [1.00000000000000000000, 0.21944419208728024873,\n",
       "        1.22277470988714265232],\n",
       "       [1.00000000000000000000, 0.26129353710814962053,\n",
       "        -0.08060599320517262967],\n",
       "       [1.00000000000000000000, 0.30314288212901896458,\n",
       "        -0.44129539608127860140],\n",
       "       [1.00000000000000000000, 0.35022339527749685173,\n",
       "        -0.23934928795652224420],\n",
       "       [1.00000000000000000000, 0.39207274029836619578,\n",
       "        -0.39563016203435968920],\n",
       "       [1.00000000000000000000, 0.43392208531923553982,\n",
       "        -0.30382702611994610864],\n",
       "       [1.00000000000000000000, 0.48100259846771342698,\n",
       "        0.74614687506250587656],\n",
       "       [1.00000000000000000000, 0.52285194348858277102,\n",
       "        1.58030162394311091134],\n",
       "       [1.00000000000000000000, 0.56470128850945211507,\n",
       "        1.89606484383196072230],\n",
       "       [1.00000000000000000000, 0.61178180165793005774,\n",
       "        1.33425771973313733731],\n",
       "       [1.00000000000000000000, 0.65363114667879940178,\n",
       "        0.49562968158152115317],\n",
       "       [1.00000000000000000000, 0.69548049169966874583,\n",
       "        -0.15984688539336847080],\n",
       "       [1.00000000000000000000, 0.74256100484814668850,\n",
       "        1.85109642935558049714],\n",
       "       [1.00000000000000000000, 0.78441034986901603254,\n",
       "        1.90711162681385948403],\n",
       "       [1.00000000000000000000, 0.82625969488988537659,\n",
       "        0.29296726242970710929],\n",
       "       [1.00000000000000000000, 0.87334020803836320823,\n",
       "        0.06949446486823517011],\n",
       "       [1.00000000000000000000, 0.91518955305923266330,\n",
       "        0.70478438004206112044],\n",
       "       [1.00000000000000000000, 0.95703889808010200735,\n",
       "        -0.01275948164012286577],\n",
       "       [1.00000000000000000000, 1.00411941122857983899,\n",
       "        0.01217009124712626657],\n",
       "       [1.00000000000000000000, 1.04596875624944929406,\n",
       "        2.25828595033281764870],\n",
       "       [1.00000000000000000000, 1.08781810127031852709,\n",
       "        -0.02233141107878313172],\n",
       "       [1.00000000000000000000, 1.13489861441879646975,\n",
       "        0.23190215344507597584],\n",
       "       [1.00000000000000000000, 1.17674795943966592482,\n",
       "        0.11345744504586584289],\n",
       "       [1.00000000000000000000, 1.21859730446053515784,\n",
       "        1.46909311877642001498],\n",
       "       [1.00000000000000000000, 1.26567781760901310051,\n",
       "        0.60732709744921942185],\n",
       "       [1.00000000000000000000, 1.30752716262988233353,\n",
       "        0.19140865252775010608],\n",
       "       [1.00000000000000000000, 1.34937650765075178860,\n",
       "        0.21784069185497187404],\n",
       "       [1.00000000000000000000, 1.39645702079922973127,\n",
       "        0.15002504176274317205],\n",
       "       [1.00000000000000000000, 1.43830636582009896429,\n",
       "        0.43221422779835882988],\n",
       "       [1.00000000000000000000, 1.48015571084096797527,\n",
       "        2.41819873247528116522],\n",
       "       [1.00000000000000000000, 1.52723622398944680612,\n",
       "        0.32616283716887223276],\n",
       "       [1.00000000000000000000, 1.56908556901031603914,\n",
       "        1.86878330185813767983],\n",
       "       [1.00000000000000000000, 1.61093491403118460603,\n",
       "        0.38207570448042849076],\n",
       "       [1.00000000000000000000, 1.65801542717966343687,\n",
       "        1.38372866066530653129],\n",
       "       [1.00000000000000000000, 1.69986477220053266990,\n",
       "        3.67731271352588473533]])"
      ]
     },
     "execution_count": 258,
     "metadata": {},
     "output_type": "execute_result"
    }
   ],
   "source": [
    "features = np.divide(np.add(features, -mean_tiles), stddev_tiles)\n",
    "ones = np.ones((features.shape[0],1), dtype=np.integer)\n",
    "features = np.append(ones, features, axis=1)\n",
    "features"
   ]
  },
  {
   "cell_type": "code",
   "execution_count": 259,
   "metadata": {
    "collapsed": false,
    "scrolled": true
   },
   "outputs": [],
   "source": [
    "beta = np.zeros((1, features.shape[1]),dtype=float)"
   ]
  },
  {
   "cell_type": "code",
   "execution_count": 195,
   "metadata": {
    "collapsed": false
   },
   "outputs": [
    {
     "data": {
      "text/plain": [
       "array([0.80524759999999995230, 0.91947409999999996089])"
      ]
     },
     "execution_count": 195,
     "metadata": {},
     "output_type": "execute_result"
    }
   ],
   "source": []
  },
  {
   "cell_type": "code",
   "execution_count": null,
   "metadata": {
    "collapsed": false
   },
   "outputs": [],
   "source": []
  },
  {
   "cell_type": "code",
   "execution_count": 209,
   "metadata": {
    "collapsed": false
   },
   "outputs": [
    {
     "data": {
      "text/plain": [
       "array([0.80524759999999995230, 0.91947409999999996089])"
      ]
     },
     "execution_count": 209,
     "metadata": {},
     "output_type": "execute_result"
    }
   ],
   "source": []
  },
  {
   "cell_type": "code",
   "execution_count": 210,
   "metadata": {
    "collapsed": false
   },
   "outputs": [
    {
     "data": {
      "text/plain": [
       "array([[1.00000000000000000000, 1.00000000000000000000],\n",
       "       [-1.00000000000000000000, 1.00000000000000000000],\n",
       "       [-1.00000000000000066613, 0.99999999999999933387]])"
      ]
     },
     "execution_count": 210,
     "metadata": {},
     "output_type": "execute_result"
    }
   ],
   "source": []
  },
  {
   "cell_type": "code",
   "execution_count": 205,
   "metadata": {
    "collapsed": false
   },
   "outputs": [
    {
     "data": {
      "text/plain": [
       "array([-0.80524759999999995230, -0.91947409999999996089])"
      ]
     },
     "execution_count": 205,
     "metadata": {},
     "output_type": "execute_result"
    }
   ],
   "source": []
  },
  {
   "cell_type": "code",
   "execution_count": 271,
   "metadata": {
    "collapsed": false
   },
   "outputs": [],
   "source": [
    "alpha_values = [0.001, 0.005, 0.01, 0.05, 0.1, 0.4, 0.5, 1, 5, 10]\n",
    "#r_value = []\n",
    "\n",
    "iterations = 100\n",
    "for alpha in alpha_values:\n",
    "    #rval = []\n",
    "    #print alpha\n",
    "    for i in range(1, iterations+1):\n",
    "        beta = beta - (alpha * np.sum((features.T) * (np.sum(beta * features, axis=1) - values), axis=1).reshape(1,3) / n)\n",
    "        #rval.append(0.5 * np.sum(np.square(np.sum(beta * features, axis=1) - values)) / csv_data.shape[0])\n",
    "    #r_value.append(rval)\n",
    "    final_output.append([alpha, iterations] + beta.reshape(3).tolist())\n",
    "    beta = np.zeros((1, features.shape[1]), dtype=float)"
   ]
  },
  {
   "cell_type": "code",
   "execution_count": 272,
   "metadata": {
    "collapsed": false
   },
   "outputs": [
    {
     "data": {
      "text/plain": [
       "[[0.001, 100, 0.1043916796266313, 0.011962967192070476, 0.008633595555561502],\n",
       " [0.005, 100, 0.43225726708025014, 0.04562576717183785, 0.029814693921480024],\n",
       " [0.01, 100, 0.6951206934840981, 0.0686236380823034, 0.03893700612129118],\n",
       " [0.05, 100, 1.089969183119605, 0.11243317144538595, 0.018400280080915515],\n",
       " [0.1, 100, 1.0964316878594287, 0.12500553771969233, 0.005844982938081388],\n",
       " [0.4, 100, 1.0964608113924048, 0.12943814280355928, 0.0014123787784968511],\n",
       " [0.5, 100, 1.0964608113924048, 0.1294390290661913, 0.0014114925158648284],\n",
       " [1, 100, 1.096460811392405, 0.12943907603586852, 0.0014114455461874287],\n",
       " [5,\n",
       "  100,\n",
       "  -4.2063422096278994e+71,\n",
       "  -4.422734969730153e+86,\n",
       "  -4.4227349697301514e+86],\n",
       " [10,\n",
       "  100,\n",
       "  -1.3213588050300699e+104,\n",
       "  -3.399340978890563e+119,\n",
       "  -3.399340978890563e+119]]"
      ]
     },
     "execution_count": 272,
     "metadata": {},
     "output_type": "execute_result"
    }
   ],
   "source": [
    "final_output"
   ]
  },
  {
   "cell_type": "code",
   "execution_count": 125,
   "metadata": {
    "collapsed": false,
    "scrolled": false
   },
   "outputs": [
    {
     "data": {
      "text/plain": [
       "[<matplotlib.lines.Line2D at 0x10ae7c3d0>]"
      ]
     },
     "execution_count": 125,
     "metadata": {},
     "output_type": "execute_result"
    },
    {
     "data": {
      "image/png": "[encoded data removed]",
      "text/plain": [
       "<matplotlib.figure.Figure at 0x10a716c10>"
      ]
     },
     "metadata": {},
     "output_type": "display_data"
    }
   ],
   "source": [
    "\"\"\"series = list(range(10))\n",
    "plt.plot(series, r_value[0][:10],'b-',label='0.001')\n",
    "plt.plot(series, r_value[1][:10],'r-',label='0.005')\n",
    "plt.plot(series, r_value[2][:10],'g-',label='0.01')\n",
    "plt.plot(series, r_value[3][:10],'y-',label='0.05')\n",
    "plt.plot(series, r_value[4][:10],'k-',label='0.1')\n",
    "plt.plot(series, r_value[5][:10],'m-',label='0.5')\n",
    "plt.plot(series, r_value[11][:10],'b-',label='1')\n",
    "#plt.plot(series, r_value[12],'r-',label='5')\n",
    "#plt.plot(series, r_value[13],'g-',label='10')\"\"\""
   ]
  },
  {
   "cell_type": "code",
   "execution_count": 273,
   "metadata": {
    "collapsed": false
   },
   "outputs": [
    {
     "ename": "NameError",
     "evalue": "name 'outputfilename' is not defined",
     "output_type": "error",
     "traceback": [
      "\u001b[0;31m---------------------------------------------------------------------------\u001b[0m",
      "\u001b[0;31mNameError\u001b[0m                                 Traceback (most recent call last)",
      "\u001b[0;32m<ipython-input-273-dd37ae34e4a2>\u001b[0m in \u001b[0;36m<module>\u001b[0;34m()\u001b[0m\n\u001b[0;32m----> 1\u001b[0;31m \u001b[0;32mwith\u001b[0m \u001b[0mopen\u001b[0m\u001b[0;34m(\u001b[0m\u001b[0moutputfilename\u001b[0m\u001b[0;34m,\u001b[0m \u001b[0;34m'wb'\u001b[0m\u001b[0;34m)\u001b[0m \u001b[0;32mas\u001b[0m \u001b[0moutputcsvfile\u001b[0m\u001b[0;34m:\u001b[0m\u001b[0;34m\u001b[0m\u001b[0m\n\u001b[0m\u001b[1;32m      2\u001b[0m         \u001b[0mcsvwriter\u001b[0m \u001b[0;34m=\u001b[0m \u001b[0mcsv\u001b[0m\u001b[0;34m.\u001b[0m\u001b[0mwriter\u001b[0m\u001b[0;34m(\u001b[0m\u001b[0moutputcsvfile\u001b[0m\u001b[0;34m,\u001b[0m \u001b[0mdelimiter\u001b[0m\u001b[0;34m=\u001b[0m\u001b[0;34m','\u001b[0m\u001b[0;34m)\u001b[0m\u001b[0;34m\u001b[0m\u001b[0m\n\u001b[1;32m      3\u001b[0m         \u001b[0;32mfor\u001b[0m \u001b[0moutput\u001b[0m \u001b[0;32min\u001b[0m \u001b[0mfinal_output\u001b[0m\u001b[0;34m:\u001b[0m\u001b[0;34m\u001b[0m\u001b[0m\n\u001b[1;32m      4\u001b[0m             \u001b[0mcsvwriter\u001b[0m\u001b[0;34m.\u001b[0m\u001b[0mwriterow\u001b[0m\u001b[0;34m(\u001b[0m\u001b[0moutput\u001b[0m\u001b[0;34m)\u001b[0m\u001b[0;34m\u001b[0m\u001b[0m\n",
      "\u001b[0;31mNameError\u001b[0m: name 'outputfilename' is not defined"
     ]
    }
   ],
   "source": [
    "with open(outputfilename, 'wb') as outputcsvfile:\n",
    "        csvwriter = csv.writer(outputcsvfile, delimiter=',')\n",
    "        for output in final_output:\n",
    "            csvwriter.writerow(output)"
   ]
  },
  {
   "cell_type": "code",
   "execution_count": null,
   "metadata": {
    "collapsed": false
   },
   "outputs": [],
   "source": []
  },
  {
   "cell_type": "code",
   "execution_count": null,
   "metadata": {
    "collapsed": false
   },
   "outputs": [],
   "source": []
  },
  {
   "cell_type": "code",
   "execution_count": null,
   "metadata": {
    "collapsed": false
   },
   "outputs": [],
   "source": []
  },
  {
   "cell_type": "code",
   "execution_count": null,
   "metadata": {
    "collapsed": false
   },
   "outputs": [],
   "source": []
  },
  {
   "cell_type": "code",
   "execution_count": null,
   "metadata": {
    "collapsed": false
   },
   "outputs": [],
   "source": []
  },
  {
   "cell_type": "code",
   "execution_count": null,
   "metadata": {
    "collapsed": true
   },
   "outputs": [],
   "source": []
  }
 ],
 "metadata": {
  "kernelspec": {
   "display_name": "Python 2",
   "language": "python",
   "name": "python2"
  },
  "language_info": {
   "codemirror_mode": {
    "name": "ipython",
    "version": 2
   },
   "file_extension": ".py",
   "mimetype": "text/x-python",
   "name": "python",
   "nbconvert_exporter": "python",
   "pygments_lexer": "ipython2",
   "version": "2.7.13"
  }
 },
 "nbformat": 4,
 "nbformat_minor": 2
}
