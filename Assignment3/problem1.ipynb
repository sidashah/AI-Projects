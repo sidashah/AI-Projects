{
 "cells": [
  {
   "cell_type": "code",
   "execution_count": 1,
   "metadata": {
    "collapsed": true
   },
   "outputs": [],
   "source": [
    "import numpy as np"
   ]
  },
  {
   "cell_type": "code",
   "execution_count": 2,
   "metadata": {
    "collapsed": true
   },
   "outputs": [],
   "source": [
    "import csv, sys\n",
    "%matplotlib inline\n",
    "import matplotlib.pyplot as plt"
   ]
  },
  {
   "cell_type": "code",
   "execution_count": 3,
   "metadata": {
    "collapsed": false
   },
   "outputs": [],
   "source": [
    "with open('input1.csv', 'rb') as csvfile:\n",
    "    csv = list(csv.reader(csvfile, delimiter=','))\n",
    "csv_data = np.array(csv, dtype=np.integer)"
   ]
  },
  {
   "cell_type": "code",
   "execution_count": 4,
   "metadata": {
    "collapsed": false
   },
   "outputs": [
    {
     "data": {
      "text/plain": [
       "array([[  1,   8, -11,   1],\n",
       "       [  1,   7,   7,  -1],\n",
       "       [  1,  12, -20,   1],\n",
       "       [  1,  14,  -3,  -1],\n",
       "       [  1,  12,   8,  -1],\n",
       "       [  1,   1, -12,   1],\n",
       "       [  1,  15,   5,  -1],\n",
       "       [  1,   7, -10,   1],\n",
       "       [  1,  10,   4,  -1],\n",
       "       [  1,   6,   2,   1],\n",
       "       [  1,   8,  12,  -1],\n",
       "       [  1,   2,  20,  -1],\n",
       "       [  1,   1, -12,   1],\n",
       "       [  1,   9,   8,  -1],\n",
       "       [  1,   3,   3,   1],\n",
       "       [  1,   5,   6,   1],\n",
       "       [  1,   1,  11,   1]])"
      ]
     },
     "execution_count": 4,
     "metadata": {},
     "output_type": "execute_result"
    }
   ],
   "source": [
    "ones = np.ones((csv_data.shape[0],1), dtype=np.integer)\n",
    "csv_data = np.append(ones, csv_data, axis=1)\n",
    "csv_data"
   ]
  },
  {
   "cell_type": "code",
   "execution_count": 5,
   "metadata": {
    "collapsed": false
   },
   "outputs": [
    {
     "ename": "NameError",
     "evalue": "name 'features' is not defined",
     "output_type": "error",
     "traceback": [
      "\u001b[0;31m---------------------------------------------------------------------------\u001b[0m",
      "\u001b[0;31mNameError\u001b[0m                                 Traceback (most recent call last)",
      "\u001b[0;32m<ipython-input-5-05150d7bed14>\u001b[0m in \u001b[0;36m<module>\u001b[0;34m()\u001b[0m\n\u001b[1;32m      1\u001b[0m \u001b[0mpos\u001b[0m \u001b[0;34m=\u001b[0m \u001b[0mcsv_data\u001b[0m\u001b[0;34m[\u001b[0m\u001b[0mcsv_data\u001b[0m\u001b[0;34m[\u001b[0m\u001b[0;34m:\u001b[0m\u001b[0;34m,\u001b[0m\u001b[0;36m3\u001b[0m\u001b[0;34m]\u001b[0m \u001b[0;34m==\u001b[0m \u001b[0;36m1\u001b[0m\u001b[0;34m]\u001b[0m \u001b[0;31m# select rows where result is 1\u001b[0m\u001b[0;34m\u001b[0m\u001b[0m\n\u001b[1;32m      2\u001b[0m \u001b[0mneg\u001b[0m \u001b[0;34m=\u001b[0m \u001b[0mcsv_data\u001b[0m\u001b[0;34m[\u001b[0m\u001b[0mcsv_data\u001b[0m\u001b[0;34m[\u001b[0m\u001b[0;34m:\u001b[0m\u001b[0;34m,\u001b[0m\u001b[0;36m3\u001b[0m\u001b[0;34m]\u001b[0m \u001b[0;34m==\u001b[0m \u001b[0;34m-\u001b[0m\u001b[0;36m1\u001b[0m\u001b[0;34m]\u001b[0m \u001b[0;31m# select rows where result is -1\u001b[0m\u001b[0;34m\u001b[0m\u001b[0m\n\u001b[0;32m----> 3\u001b[0;31m \u001b[0mplt\u001b[0m\u001b[0;34m.\u001b[0m\u001b[0mscatter\u001b[0m\u001b[0;34m(\u001b[0m\u001b[0mfeatures\u001b[0m\u001b[0;34m[\u001b[0m\u001b[0;34m:\u001b[0m\u001b[0;34m,\u001b[0m\u001b[0;36m1\u001b[0m\u001b[0;34m]\u001b[0m\u001b[0;34m,\u001b[0m\u001b[0mfeatures\u001b[0m\u001b[0;34m[\u001b[0m\u001b[0;34m:\u001b[0m\u001b[0;34m,\u001b[0m\u001b[0;36m2\u001b[0m\u001b[0;34m]\u001b[0m\u001b[0;34m)\u001b[0m\u001b[0;34m\u001b[0m\u001b[0m\n\u001b[0m\u001b[1;32m      4\u001b[0m \u001b[0mpos\u001b[0m\u001b[0;34m\u001b[0m\u001b[0m\n\u001b[1;32m      5\u001b[0m \u001b[0mneg\u001b[0m\u001b[0;34m\u001b[0m\u001b[0m\n",
      "\u001b[0;31mNameError\u001b[0m: name 'features' is not defined"
     ]
    }
   ],
   "source": [
    "pos = csv_data[csv_data[:,3] == 1] # select rows where result is 1\n",
    "neg = csv_data[csv_data[:,3] == -1] # select rows where result is -1\n",
    "plt.scatter(features[:,1],features[:,2])\n",
    "pos\n",
    "neg"
   ]
  },
  {
   "cell_type": "code",
   "execution_count": 6,
   "metadata": {
    "collapsed": false
   },
   "outputs": [
    {
     "data": {
      "text/plain": [
       "[<matplotlib.lines.Line2D at 0x10707aed0>]"
      ]
     },
     "execution_count": 6,
     "metadata": {},
     "output_type": "execute_result"
    },
    {
     "data": {
      "image/png": "[encoded data removed]",
      "text/plain": [
       "<matplotlib.figure.Figure at 0x107cc0390>"
      ]
     },
     "metadata": {},
     "output_type": "display_data"
    }
   ],
   "source": [
    "fig, ax = plt.subplots()\n",
    "plt.scatter(pos[:,1], pos[:,2], color='g')\n",
    "plt.scatter(neg[:,1], neg[:,2], color='r')\n",
    "plt.plot([0, 7.8], [19.5, 0], color='b', linestyle=\"solid\", linewidth=2)"
   ]
  },
  {
   "cell_type": "code",
   "execution_count": 15,
   "metadata": {
    "collapsed": false
   },
   "outputs": [
    {
     "data": {
      "text/plain": [
       "array([[  1,   8, -11],\n",
       "       [  1,   7,   7],\n",
       "       [  1,  12, -20],\n",
       "       [  1,  14,  -3],\n",
       "       [  1,  12,   8],\n",
       "       [  1,   1, -12],\n",
       "       [  1,  15,   5],\n",
       "       [  1,   7, -10],\n",
       "       [  1,  10,   4],\n",
       "       [  1,   6,   2],\n",
       "       [  1,   8,  12],\n",
       "       [  1,   2,  20],\n",
       "       [  1,   1, -12],\n",
       "       [  1,   9,   8],\n",
       "       [  1,   3,   3],\n",
       "       [  1,   5,   6],\n",
       "       [  1,   1,  11]])"
      ]
     },
     "execution_count": 15,
     "metadata": {},
     "output_type": "execute_result"
    }
   ],
   "source": [
    "y = csv_data[:,3]\n",
    "features = csv_data[:,[0,1,2]]\n",
    "features"
   ]
  },
  {
   "cell_type": "code",
   "execution_count": 16,
   "metadata": {
    "collapsed": false
   },
   "outputs": [],
   "source": [
    "weights = np.zeros(features.shape[1],dtype=np.integer)"
   ]
  },
  {
   "cell_type": "code",
   "execution_count": 17,
   "metadata": {
    "collapsed": false
   },
   "outputs": [
    {
     "data": {
      "text/plain": [
       "array([0, 0, 0])"
      ]
     },
     "execution_count": 17,
     "metadata": {},
     "output_type": "execute_result"
    }
   ],
   "source": [
    "weights"
   ]
  },
  {
   "cell_type": "code",
   "execution_count": 18,
   "metadata": {
    "collapsed": false
   },
   "outputs": [],
   "source": [
    "def calc_func(weights, features):\n",
    "    return np.dot(weights, features)"
   ]
  },
  {
   "cell_type": "code",
   "execution_count": 53,
   "metadata": {
    "collapsed": false
   },
   "outputs": [
    {
     "data": {
      "text/plain": [
       "array([[ 3,  8,  3],\n",
       "       [ 6,  3,  9],\n",
       "       [10, 12,  6],\n",
       "       [12,  6,  1],\n",
       "       [15,  7,  9],\n",
       "       [16,  5,  2],\n",
       "       [18,  5, -1],\n",
       "       [21,  6,  7],\n",
       "       [23,  3,  8],\n",
       "       [24, -1, -2],\n",
       "       [26,  2,  7],\n",
       "       [28,  3,  3],\n",
       "       [30,  3,  6],\n",
       "       [32,  0,  7],\n",
       "       [34,  1,  3],\n",
       "       [36,  1,  6],\n",
       "       [38,  2,  2],\n",
       "       [40,  2,  5],\n",
       "       [39, -5, -2]])"
      ]
     },
     "execution_count": 53,
     "metadata": {},
     "output_type": "execute_result"
    }
   ],
   "source": [
    "weights = np.zeros(features.shape[1],dtype=np.integer)\n",
    "newweights = np.zeros(features.shape[1],dtype=np.integer)\n",
    "\n",
    "for i in range(0, csv_data.shape[0]):\n",
    "    if y[i] * calc_func(weights, features[i,:]) <= 0:\n",
    "        weights = weights + y[i] * features[i,]\n",
    "\n",
    "final_weights = np.array([weights], copy=True)\n",
    "# TODO : Write to CSV\n",
    "\n",
    "while not np.array_equal(newweights, weights):\n",
    "    newweights = weights\n",
    "    for i in range(0, csv_data.shape[0]):\n",
    "        if y[i] * calc_func(weights, features[i,:]) <= 0:\n",
    "            weights = np.array(weights + y[i] * features[i,], copy=True)\n",
    "    final_weights = np.concatenate((final_weights, np.array([weights])), axis=0)\n",
    "final_weights[:-1]"
   ]
  },
  {
   "cell_type": "code",
   "execution_count": 35,
   "metadata": {
    "collapsed": false
   },
   "outputs": [
    {
     "data": {
      "text/plain": [
       "array([], dtype=float64)"
      ]
     },
     "execution_count": 35,
     "metadata": {},
     "output_type": "execute_result"
    }
   ],
   "source": [
    "all_weights"
   ]
  },
  {
   "cell_type": "code",
   "execution_count": 12,
   "metadata": {
    "collapsed": false
   },
   "outputs": [
    {
     "name": "stdout",
     "output_type": "stream",
     "text": [
      "[6 3 9]\n"
     ]
    }
   ],
   "source": [
    "for i in range(0, csv_data.shape[0]):\n",
    "    if y[i] * calc_func(weights, features[i,:]) <= 0:\n",
    "        weights = weights + y[i] * features[i,]\n",
    "print weights"
   ]
  },
  {
   "cell_type": "code",
   "execution_count": 88,
   "metadata": {
    "collapsed": false
   },
   "outputs": [
    {
     "name": "stdout",
     "output_type": "stream",
     "text": [
      "[12  6]\n"
     ]
    }
   ],
   "source": []
  },
  {
   "cell_type": "code",
   "execution_count": 13,
   "metadata": {
    "collapsed": false
   },
   "outputs": [
    {
     "name": "stdout",
     "output_type": "stream",
     "text": [
      "[10 12  6]\n"
     ]
    }
   ],
   "source": [
    "for i in range(0, csv_data.shape[0]):\n",
    "    if y[i] * calc_func(weights, features[i,:]) <= 0:\n",
    "        weights = weights + y[i] * features[i,]\n",
    "print weights"
   ]
  },
  {
   "cell_type": "code",
   "execution_count": 14,
   "metadata": {
    "collapsed": false
   },
   "outputs": [
    {
     "name": "stdout",
     "output_type": "stream",
     "text": [
      "[12  6  1]\n"
     ]
    }
   ],
   "source": [
    "for i in range(0, csv_data.shape[0]):\n",
    "    if y[i] * calc_func(weights, features[i,:]) <= 0:\n",
    "        weights = weights + y[i] * features[i,]\n",
    "print weights"
   ]
  },
  {
   "cell_type": "code",
   "execution_count": 26,
   "metadata": {
    "collapsed": false
   },
   "outputs": [
    {
     "name": "stdout",
     "output_type": "stream",
     "text": [
      "[15  7  9]\n"
     ]
    }
   ],
   "source": [
    "for i in range(0, csv_data.shape[0]):\n",
    "    if y[i] * calc_func(weights, features[i,:]) <= 0:\n",
    "        weights = weights + y[i] * features[i,]\n",
    "print weights"
   ]
  },
  {
   "cell_type": "code",
   "execution_count": 27,
   "metadata": {
    "collapsed": false
   },
   "outputs": [
    {
     "name": "stdout",
     "output_type": "stream",
     "text": [
      "[16  5  2]\n"
     ]
    }
   ],
   "source": [
    "for i in range(0, csv_data.shape[0]):\n",
    "    if y[i] * calc_func(weights, features[i,:]) <= 0:\n",
    "        weights = weights + y[i] * features[i,]\n",
    "print weights"
   ]
  },
  {
   "cell_type": "code",
   "execution_count": 28,
   "metadata": {
    "collapsed": false
   },
   "outputs": [
    {
     "name": "stdout",
     "output_type": "stream",
     "text": [
      "[18  5 -1]\n"
     ]
    }
   ],
   "source": [
    "for i in range(0, csv_data.shape[0]):\n",
    "    if y[i] * calc_func(weights, features[i,:]) <= 0:\n",
    "        weights = weights + y[i] * features[i,]\n",
    "print weights"
   ]
  },
  {
   "cell_type": "code",
   "execution_count": 29,
   "metadata": {
    "collapsed": false
   },
   "outputs": [
    {
     "name": "stdout",
     "output_type": "stream",
     "text": [
      "[21  6  7]\n"
     ]
    }
   ],
   "source": [
    "for i in range(0, csv_data.shape[0]):\n",
    "    if y[i] * calc_func(weights, features[i,:]) <= 0:\n",
    "        weights = weights + y[i] * features[i,]\n",
    "print weights"
   ]
  },
  {
   "cell_type": "code",
   "execution_count": 30,
   "metadata": {
    "collapsed": false
   },
   "outputs": [
    {
     "name": "stdout",
     "output_type": "stream",
     "text": [
      "[23  3  8]\n"
     ]
    }
   ],
   "source": [
    "for i in range(0, csv_data.shape[0]):\n",
    "    if y[i] * calc_func(weights, features[i,:]) <= 0:\n",
    "        weights = weights + y[i] * features[i,]\n",
    "print weights"
   ]
  },
  {
   "cell_type": "code",
   "execution_count": 31,
   "metadata": {
    "collapsed": false
   },
   "outputs": [
    {
     "name": "stdout",
     "output_type": "stream",
     "text": [
      "[24 -1 -2]\n"
     ]
    }
   ],
   "source": [
    "for i in range(0, csv_data.shape[0]):\n",
    "    if y[i] * calc_func(weights, features[i,:]) <= 0:\n",
    "        weights = weights + y[i] * features[i,]\n",
    "print weights"
   ]
  },
  {
   "cell_type": "code",
   "execution_count": 32,
   "metadata": {
    "collapsed": false
   },
   "outputs": [
    {
     "name": "stdout",
     "output_type": "stream",
     "text": [
      "[26  2  7]\n"
     ]
    }
   ],
   "source": [
    "for i in range(0, csv_data.shape[0]):\n",
    "    if y[i] * calc_func(weights, features[i,:]) <= 0:\n",
    "        weights = weights + y[i] * features[i,]\n",
    "print weights"
   ]
  },
  {
   "cell_type": "code",
   "execution_count": 33,
   "metadata": {
    "collapsed": false
   },
   "outputs": [
    {
     "name": "stdout",
     "output_type": "stream",
     "text": [
      "[28  3  3]\n"
     ]
    }
   ],
   "source": [
    "for i in range(0, csv_data.shape[0]):\n",
    "    if y[i] * calc_func(weights, features[i,:]) <= 0:\n",
    "        weights = weights + y[i] * features[i,]\n",
    "print weights"
   ]
  },
  {
   "cell_type": "code",
   "execution_count": 34,
   "metadata": {
    "collapsed": false
   },
   "outputs": [
    {
     "name": "stdout",
     "output_type": "stream",
     "text": [
      "[30  3  6]\n"
     ]
    }
   ],
   "source": [
    "for i in range(0, csv_data.shape[0]):\n",
    "    if y[i] * calc_func(weights, features[i,:]) <= 0:\n",
    "        weights = weights + y[i] * features[i,]\n",
    "print weights"
   ]
  },
  {
   "cell_type": "code",
   "execution_count": 35,
   "metadata": {
    "collapsed": false
   },
   "outputs": [
    {
     "name": "stdout",
     "output_type": "stream",
     "text": [
      "[32  0  7]\n"
     ]
    }
   ],
   "source": [
    "for i in range(0, csv_data.shape[0]):\n",
    "    if y[i] * calc_func(weights, features[i,:]) <= 0:\n",
    "        weights = weights + y[i] * features[i,]\n",
    "print weights"
   ]
  },
  {
   "cell_type": "code",
   "execution_count": 36,
   "metadata": {
    "collapsed": false
   },
   "outputs": [
    {
     "name": "stdout",
     "output_type": "stream",
     "text": [
      "[34  1  3]\n"
     ]
    }
   ],
   "source": [
    "for i in range(0, csv_data.shape[0]):\n",
    "    if y[i] * calc_func(weights, features[i,:]) <= 0:\n",
    "        weights = weights + y[i] * features[i,]\n",
    "print weights"
   ]
  },
  {
   "cell_type": "code",
   "execution_count": 37,
   "metadata": {
    "collapsed": false
   },
   "outputs": [
    {
     "name": "stdout",
     "output_type": "stream",
     "text": [
      "[36  1  6]\n"
     ]
    }
   ],
   "source": [
    "for i in range(0, csv_data.shape[0]):\n",
    "    if y[i] * calc_func(weights, features[i,:]) <= 0:\n",
    "        weights = weights + y[i] * features[i,]\n",
    "print weights"
   ]
  },
  {
   "cell_type": "code",
   "execution_count": 38,
   "metadata": {
    "collapsed": false
   },
   "outputs": [
    {
     "name": "stdout",
     "output_type": "stream",
     "text": [
      "[38  2  2]\n"
     ]
    }
   ],
   "source": [
    "for i in range(0, csv_data.shape[0]):\n",
    "    if y[i] * calc_func(weights, features[i,:]) <= 0:\n",
    "        weights = weights + y[i] * features[i,]\n",
    "print weights"
   ]
  },
  {
   "cell_type": "code",
   "execution_count": 39,
   "metadata": {
    "collapsed": false
   },
   "outputs": [
    {
     "name": "stdout",
     "output_type": "stream",
     "text": [
      "[40  2  5]\n"
     ]
    }
   ],
   "source": [
    "for i in range(0, csv_data.shape[0]):\n",
    "    if y[i] * calc_func(weights, features[i,:]) <= 0:\n",
    "        weights = weights + y[i] * features[i,]\n",
    "print weights"
   ]
  },
  {
   "cell_type": "code",
   "execution_count": 40,
   "metadata": {
    "collapsed": false
   },
   "outputs": [
    {
     "name": "stdout",
     "output_type": "stream",
     "text": [
      "[39 -5 -2]\n"
     ]
    }
   ],
   "source": [
    "for i in range(0, csv_data.shape[0]):\n",
    "    if y[i] * calc_func(weights, features[i,:]) <= 0:\n",
    "        weights = weights + y[i] * features[i,]\n",
    "print weights"
   ]
  },
  {
   "cell_type": "code",
   "execution_count": 41,
   "metadata": {
    "collapsed": false
   },
   "outputs": [
    {
     "name": "stdout",
     "output_type": "stream",
     "text": [
      "[39 -5 -2]\n"
     ]
    }
   ],
   "source": [
    "for i in range(0, csv_data.shape[0]):\n",
    "    if y[i] * calc_func(weights, features[i,:]) <= 0:\n",
    "        weights = weights + y[i] * features[i,]\n",
    "print weights"
   ]
  },
  {
   "cell_type": "code",
   "execution_count": 42,
   "metadata": {
    "collapsed": false
   },
   "outputs": [
    {
     "name": "stdout",
     "output_type": "stream",
     "text": [
      "[39 -5 -2]\n"
     ]
    }
   ],
   "source": [
    "for i in range(0, csv_data.shape[0]):\n",
    "    if y[i] * calc_func(weights, features[i,:]) <= 0:\n",
    "        weights = weights + y[i] * features[i,]\n",
    "print weights"
   ]
  },
  {
   "cell_type": "code",
   "execution_count": 121,
   "metadata": {
    "collapsed": false
   },
   "outputs": [
    {
     "name": "stdout",
     "output_type": "stream",
     "text": [
      "[7 9]\n"
     ]
    }
   ],
   "source": [
    "for i in range(0, csv_data.shape[0]):\n",
    "    if y[i] * calc_func(weights, features[i,:]) <= 0:\n",
    "        weights = weights + y[i] * features[i,]\n",
    "print weights"
   ]
  },
  {
   "cell_type": "code",
   "execution_count": 122,
   "metadata": {
    "collapsed": false
   },
   "outputs": [
    {
     "name": "stdout",
     "output_type": "stream",
     "text": [
      "[ 4 10]\n"
     ]
    }
   ],
   "source": [
    "for i in range(0, csv_data.shape[0]):\n",
    "    if y[i] * calc_func(weights, features[i,:]) <= 0:\n",
    "        weights = weights + y[i] * features[i,]\n",
    "print weights"
   ]
  },
  {
   "cell_type": "code",
   "execution_count": 123,
   "metadata": {
    "collapsed": false
   },
   "outputs": [
    {
     "name": "stdout",
     "output_type": "stream",
     "text": [
      "[13  7]\n"
     ]
    }
   ],
   "source": [
    "for i in range(0, csv_data.shape[0]):\n",
    "    if y[i] * calc_func(weights, features[i,:]) <= 0:\n",
    "        weights = weights + y[i] * features[i,]\n",
    "print weights"
   ]
  },
  {
   "cell_type": "code",
   "execution_count": 124,
   "metadata": {
    "collapsed": false
   },
   "outputs": [
    {
     "name": "stdout",
     "output_type": "stream",
     "text": [
      "[7 2]\n"
     ]
    }
   ],
   "source": [
    "for i in range(0, csv_data.shape[0]):\n",
    "    if y[i] * calc_func(weights, features[i,:]) <= 0:\n",
    "        weights = weights + y[i] * features[i,]\n",
    "print weights"
   ]
  },
  {
   "cell_type": "code",
   "execution_count": 125,
   "metadata": {
    "collapsed": false
   },
   "outputs": [
    {
     "name": "stdout",
     "output_type": "stream",
     "text": [
      "[ 8 10]\n"
     ]
    }
   ],
   "source": [
    "for i in range(0, csv_data.shape[0]):\n",
    "    if y[i] * calc_func(weights, features[i,:]) <= 0:\n",
    "        weights = weights + y[i] * features[i,]\n",
    "print weights"
   ]
  },
  {
   "cell_type": "code",
   "execution_count": 126,
   "metadata": {
    "collapsed": false
   },
   "outputs": [
    {
     "name": "stdout",
     "output_type": "stream",
     "text": [
      "[4 0]\n"
     ]
    }
   ],
   "source": [
    "for i in range(0, csv_data.shape[0]):\n",
    "    if y[i] * calc_func(weights, features[i,:]) <= 0:\n",
    "        weights = weights + y[i] * features[i,]\n",
    "print weights"
   ]
  },
  {
   "cell_type": "code",
   "execution_count": 127,
   "metadata": {
    "collapsed": false
   },
   "outputs": [
    {
     "name": "stdout",
     "output_type": "stream",
     "text": [
      "[7 9]\n"
     ]
    }
   ],
   "source": [
    "for i in range(0, csv_data.shape[0]):\n",
    "    if y[i] * calc_func(weights, features[i,:]) <= 0:\n",
    "        weights = weights + y[i] * features[i,]\n",
    "print weights"
   ]
  },
  {
   "cell_type": "code",
   "execution_count": 128,
   "metadata": {
    "collapsed": false
   },
   "outputs": [
    {
     "name": "stdout",
     "output_type": "stream",
     "text": [
      "[ 4 10]\n"
     ]
    }
   ],
   "source": [
    "for i in range(0, csv_data.shape[0]):\n",
    "    if y[i] * calc_func(weights, features[i,:]) <= 0:\n",
    "        weights = weights + y[i] * features[i,]\n",
    "print weights"
   ]
  },
  {
   "cell_type": "code",
   "execution_count": 129,
   "metadata": {
    "collapsed": false
   },
   "outputs": [
    {
     "name": "stdout",
     "output_type": "stream",
     "text": [
      "[13  7]\n"
     ]
    }
   ],
   "source": [
    "for i in range(0, csv_data.shape[0]):\n",
    "    if y[i] * calc_func(weights, features[i,:]) <= 0:\n",
    "        weights = weights + y[i] * features[i,]\n",
    "print weights"
   ]
  },
  {
   "cell_type": "code",
   "execution_count": 130,
   "metadata": {
    "collapsed": false
   },
   "outputs": [
    {
     "name": "stdout",
     "output_type": "stream",
     "text": [
      "[7 2]\n"
     ]
    }
   ],
   "source": [
    "for i in range(0, csv_data.shape[0]):\n",
    "    if y[i] * calc_func(weights, features[i,:]) <= 0:\n",
    "        weights = weights + y[i] * features[i,]\n",
    "print weights"
   ]
  },
  {
   "cell_type": "code",
   "execution_count": 131,
   "metadata": {
    "collapsed": false
   },
   "outputs": [
    {
     "name": "stdout",
     "output_type": "stream",
     "text": [
      "[ 8 10]\n"
     ]
    }
   ],
   "source": [
    "for i in range(0, csv_data.shape[0]):\n",
    "    if y[i] * calc_func(weights, features[i,:]) <= 0:\n",
    "        weights = weights + y[i] * features[i,]\n",
    "print weights"
   ]
  },
  {
   "cell_type": "code",
   "execution_count": 132,
   "metadata": {
    "collapsed": false
   },
   "outputs": [
    {
     "name": "stdout",
     "output_type": "stream",
     "text": [
      "[4 0]\n"
     ]
    }
   ],
   "source": [
    "for i in range(0, csv_data.shape[0]):\n",
    "    if y[i] * calc_func(weights, features[i,:]) <= 0:\n",
    "        weights = weights + y[i] * features[i,]\n",
    "print weights"
   ]
  },
  {
   "cell_type": "code",
   "execution_count": 133,
   "metadata": {
    "collapsed": false
   },
   "outputs": [
    {
     "name": "stdout",
     "output_type": "stream",
     "text": [
      "[7 9]\n"
     ]
    }
   ],
   "source": [
    "for i in range(0, csv_data.shape[0]):\n",
    "    if y[i] * calc_func(weights, features[i,:]) <= 0:\n",
    "        weights = weights + y[i] * features[i,]\n",
    "print weights"
   ]
  },
  {
   "cell_type": "code",
   "execution_count": 134,
   "metadata": {
    "collapsed": false
   },
   "outputs": [
    {
     "name": "stdout",
     "output_type": "stream",
     "text": [
      "[ 4 10]\n"
     ]
    }
   ],
   "source": [
    "for i in range(0, csv_data.shape[0]):\n",
    "    if y[i] * calc_func(weights, features[i,:]) <= 0:\n",
    "        weights = weights + y[i] * features[i,]\n",
    "print weights"
   ]
  },
  {
   "cell_type": "code",
   "execution_count": 135,
   "metadata": {
    "collapsed": false
   },
   "outputs": [
    {
     "name": "stdout",
     "output_type": "stream",
     "text": [
      "[13  7]\n"
     ]
    }
   ],
   "source": [
    "for i in range(0, csv_data.shape[0]):\n",
    "    if y[i] * calc_func(weights, features[i,:]) <= 0:\n",
    "        weights = weights + y[i] * features[i,]\n",
    "print weights"
   ]
  },
  {
   "cell_type": "code",
   "execution_count": 136,
   "metadata": {
    "collapsed": false
   },
   "outputs": [
    {
     "name": "stdout",
     "output_type": "stream",
     "text": [
      "[7 2]\n"
     ]
    }
   ],
   "source": [
    "for i in range(0, csv_data.shape[0]):\n",
    "    if y[i] * calc_func(weights, features[i,:]) <= 0:\n",
    "        weights = weights + y[i] * features[i,]\n",
    "print weights"
   ]
  },
  {
   "cell_type": "code",
   "execution_count": 137,
   "metadata": {
    "collapsed": false
   },
   "outputs": [
    {
     "name": "stdout",
     "output_type": "stream",
     "text": [
      "[ 8 10]\n"
     ]
    }
   ],
   "source": [
    "for i in range(0, csv_data.shape[0]):\n",
    "    if y[i] * calc_func(weights, features[i,:]) <= 0:\n",
    "        weights = weights + y[i] * features[i,]\n",
    "print weights"
   ]
  },
  {
   "cell_type": "code",
   "execution_count": 138,
   "metadata": {
    "collapsed": false
   },
   "outputs": [
    {
     "name": "stdout",
     "output_type": "stream",
     "text": [
      "[4 0]\n"
     ]
    }
   ],
   "source": [
    "for i in range(0, csv_data.shape[0]):\n",
    "    if y[i] * calc_func(weights, features[i,:]) <= 0:\n",
    "        weights = weights + y[i] * features[i,]\n",
    "print weights"
   ]
  },
  {
   "cell_type": "code",
   "execution_count": 139,
   "metadata": {
    "collapsed": false
   },
   "outputs": [
    {
     "name": "stdout",
     "output_type": "stream",
     "text": [
      "[7 9]\n"
     ]
    }
   ],
   "source": [
    "for i in range(0, csv_data.shape[0]):\n",
    "    if y[i] * calc_func(weights, features[i,:]) <= 0:\n",
    "        weights = weights + y[i] * features[i,]\n",
    "print weights"
   ]
  },
  {
   "cell_type": "code",
   "execution_count": 140,
   "metadata": {
    "collapsed": false
   },
   "outputs": [
    {
     "name": "stdout",
     "output_type": "stream",
     "text": [
      "[ 4 10]\n"
     ]
    }
   ],
   "source": [
    "for i in range(0, csv_data.shape[0]):\n",
    "    if y[i] * calc_func(weights, features[i,:]) <= 0:\n",
    "        weights = weights + y[i] * features[i,]\n",
    "print weights"
   ]
  },
  {
   "cell_type": "code",
   "execution_count": 141,
   "metadata": {
    "collapsed": false
   },
   "outputs": [
    {
     "name": "stdout",
     "output_type": "stream",
     "text": [
      "[13  7]\n"
     ]
    }
   ],
   "source": [
    "for i in range(0, csv_data.shape[0]):\n",
    "    if y[i] * calc_func(weights, features[i,:]) <= 0:\n",
    "        weights = weights + y[i] * features[i,]\n",
    "print weights"
   ]
  },
  {
   "cell_type": "code",
   "execution_count": 142,
   "metadata": {
    "collapsed": false
   },
   "outputs": [
    {
     "name": "stdout",
     "output_type": "stream",
     "text": [
      "[7 2]\n"
     ]
    }
   ],
   "source": [
    "for i in range(0, csv_data.shape[0]):\n",
    "    if y[i] * calc_func(weights, features[i,:]) <= 0:\n",
    "        weights = weights + y[i] * features[i,]\n",
    "print weights"
   ]
  },
  {
   "cell_type": "code",
   "execution_count": 143,
   "metadata": {
    "collapsed": false
   },
   "outputs": [
    {
     "name": "stdout",
     "output_type": "stream",
     "text": [
      "[ 8 10]\n"
     ]
    }
   ],
   "source": [
    "for i in range(0, csv_data.shape[0]):\n",
    "    if y[i] * calc_func(weights, features[i,:]) <= 0:\n",
    "        weights = weights + y[i] * features[i,]\n",
    "print weights"
   ]
  },
  {
   "cell_type": "code",
   "execution_count": 144,
   "metadata": {
    "collapsed": false
   },
   "outputs": [
    {
     "name": "stdout",
     "output_type": "stream",
     "text": [
      "[4 0]\n"
     ]
    }
   ],
   "source": [
    "for i in range(0, csv_data.shape[0]):\n",
    "    if y[i] * calc_func(weights, features[i,:]) <= 0:\n",
    "        weights = weights + y[i] * features[i,]\n",
    "print weights"
   ]
  },
  {
   "cell_type": "code",
   "execution_count": 145,
   "metadata": {
    "collapsed": false
   },
   "outputs": [
    {
     "name": "stdout",
     "output_type": "stream",
     "text": [
      "[7 9]\n"
     ]
    }
   ],
   "source": [
    "for i in range(0, csv_data.shape[0]):\n",
    "    if y[i] * calc_func(weights, features[i,:]) <= 0:\n",
    "        weights = weights + y[i] * features[i,]\n",
    "print weights"
   ]
  },
  {
   "cell_type": "code",
   "execution_count": null,
   "metadata": {
    "collapsed": true
   },
   "outputs": [],
   "source": []
  }
 ],
 "metadata": {
  "kernelspec": {
   "display_name": "Python 2",
   "language": "python",
   "name": "python2"
  },
  "language_info": {
   "codemirror_mode": {
    "name": "ipython",
    "version": 2
   },
   "file_extension": ".py",
   "mimetype": "text/x-python",
   "name": "python",
   "nbconvert_exporter": "python",
   "pygments_lexer": "ipython2",
   "version": "2.7.13"
  }
 },
 "nbformat": 4,
 "nbformat_minor": 2
}
