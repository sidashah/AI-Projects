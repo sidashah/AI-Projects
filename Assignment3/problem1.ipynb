{
 "cells": [
  {
   "cell_type": "code",
   "execution_count": 3,
   "metadata": {
    "collapsed": true
   },
   "outputs": [],
   "source": [
    "import numpy as np"
   ]
  },
  {
   "cell_type": "code",
   "execution_count": 15,
   "metadata": {
    "collapsed": true
   },
   "outputs": [],
   "source": [
    "import csv, sys\n",
    "%matplotlib inline\n",
    "import matplotlib.pyplot as plt"
   ]
  },
  {
   "cell_type": "code",
   "execution_count": 16,
   "metadata": {
    "collapsed": false
   },
   "outputs": [],
   "source": [
    "with open('input1.csv', 'rb') as csvfile:\n",
    "    csv = list(csv.reader(csvfile, delimiter=','))\n",
    "csv_data = np.array(csv, dtype=np.integer)"
   ]
  },
  {
   "cell_type": "code",
   "execution_count": 17,
   "metadata": {
    "collapsed": false
   },
   "outputs": [
    {
     "data": {
      "text/plain": [
       "array([[  1,   8, -11,   1],\n",
       "       [  1,   7,   7,  -1],\n",
       "       [  1,  12, -20,   1],\n",
       "       [  1,  14,  -3,  -1],\n",
       "       [  1,  12,   8,  -1],\n",
       "       [  1,   1, -12,   1],\n",
       "       [  1,  15,   5,  -1],\n",
       "       [  1,   7, -10,   1],\n",
       "       [  1,  10,   4,  -1],\n",
       "       [  1,   6,   2,   1],\n",
       "       [  1,   8,  12,  -1],\n",
       "       [  1,   2,  20,  -1],\n",
       "       [  1,   1, -12,   1],\n",
       "       [  1,   9,   8,  -1],\n",
       "       [  1,   3,   3,   1],\n",
       "       [  1,   5,   6,   1],\n",
       "       [  1,   1,  11,   1]])"
      ]
     },
     "execution_count": 17,
     "metadata": {},
     "output_type": "execute_result"
    }
   ],
   "source": [
    "ones = np.ones((csv_data.shape[0],1), dtype=np.integer)\n",
    "csv_data = np.append(ones, csv_data, axis=1)\n",
    "csv_data"
   ]
  },
  {
   "cell_type": "code",
   "execution_count": 50,
   "metadata": {
    "collapsed": false
   },
   "outputs": [
    {
     "data": {
      "text/plain": [
       "array([[ 1,  7,  7, -1],\n",
       "       [ 1, 14, -3, -1],\n",
       "       [ 1, 12,  8, -1],\n",
       "       [ 1, 15,  5, -1],\n",
       "       [ 1, 10,  4, -1],\n",
       "       [ 1,  8, 12, -1],\n",
       "       [ 1,  2, 20, -1],\n",
       "       [ 1,  9,  8, -1]])"
      ]
     },
     "execution_count": 50,
     "metadata": {},
     "output_type": "execute_result"
    },
    {
     "data": {
      "image/png": "[encoded data removed]",
      "text/plain": [
       "<matplotlib.figure.Figure at 0x108153c90>"
      ]
     },
     "metadata": {},
     "output_type": "display_data"
    }
   ],
   "source": [
    "pos = csv_data[csv_data[:,3] == 1] # select rows where result is 1\n",
    "neg = csv_data[csv_data[:,3] == -1] # select rows where result is -1\n",
    "plt.scatter(features[:,1],features[:,2])\n",
    "pos\n",
    "neg"
   ]
  },
  {
   "cell_type": "code",
   "execution_count": 62,
   "metadata": {
    "collapsed": false
   },
   "outputs": [
    {
     "data": {
      "text/plain": [
       "[<matplotlib.lines.Line2D at 0x10839fe10>]"
      ]
     },
     "execution_count": 62,
     "metadata": {},
     "output_type": "execute_result"
    },
    {
     "data": {
      "image/png": "[encoded data removed]",
      "text/plain": [
       "<matplotlib.figure.Figure at 0x1086d86d0>"
      ]
     },
     "metadata": {},
     "output_type": "display_data"
    }
   ],
   "source": [
    "fig, ax = plt.subplots()\n",
    "plt.scatter(pos[:,1], pos[:,2], color='g')\n",
    "plt.scatter(neg[:,1], neg[:,2], color='r')\n",
    "plt.plot([0, 7.8], [19.5, 0], color='b', linestyle=\"solid\", linewidth=2)"
   ]
  },
  {
   "cell_type": "code",
   "execution_count": 56,
   "metadata": {
    "collapsed": false
   },
   "outputs": [
    {
     "data": {
      "text/plain": [
       "array([[  1,   8, -11],\n",
       "       [  1,   7,   7],\n",
       "       [  1,  12, -20],\n",
       "       [  1,  14,  -3],\n",
       "       [  1,  12,   8],\n",
       "       [  1,   1, -12],\n",
       "       [  1,  15,   5],\n",
       "       [  1,   7, -10],\n",
       "       [  1,  10,   4],\n",
       "       [  1,   6,   2],\n",
       "       [  1,   8,  12],\n",
       "       [  1,   2,  20],\n",
       "       [  1,   1, -12],\n",
       "       [  1,   9,   8],\n",
       "       [  1,   3,   3],\n",
       "       [  1,   5,   6],\n",
       "       [  1,   1,  11]])"
      ]
     },
     "execution_count": 56,
     "metadata": {},
     "output_type": "execute_result"
    }
   ],
   "source": [
    "y = csv_data[:,3]\n",
    "features = csv_data[:,[0,1,2]]\n",
    "features"
   ]
  },
  {
   "cell_type": "code",
   "execution_count": 19,
   "metadata": {
    "collapsed": false
   },
   "outputs": [],
   "source": [
    "weights = np.zeros(features.shape[1],dtype=np.integer)"
   ]
  },
  {
   "cell_type": "code",
   "execution_count": 20,
   "metadata": {
    "collapsed": false
   },
   "outputs": [
    {
     "data": {
      "text/plain": [
       "array([0, 0, 0])"
      ]
     },
     "execution_count": 20,
     "metadata": {},
     "output_type": "execute_result"
    }
   ],
   "source": [
    "weights"
   ]
  },
  {
   "cell_type": "code",
   "execution_count": 21,
   "metadata": {
    "collapsed": false
   },
   "outputs": [],
   "source": [
    "def calc_func(weights, features):\n",
    "    return np.dot(weights, features)"
   ]
  },
  {
   "cell_type": "code",
   "execution_count": 53,
   "metadata": {
    "collapsed": false
   },
   "outputs": [
    {
     "name": "stdout",
     "output_type": "stream",
     "text": [
      "Weights [39 -5 -2]\n"
     ]
    }
   ],
   "source": [
    "for i in range(0, csv_data.shape[0]):\n",
    "    if y[i] * calc_func(weights, features[i,:]) <= 0:\n",
    "        weights = weights + y[i] * features[i,]\n",
    "print \"Weights\",weights"
   ]
  },
  {
   "cell_type": "code",
   "execution_count": 68,
   "metadata": {
    "collapsed": false
   },
   "outputs": [
    {
     "name": "stdout",
     "output_type": "stream",
     "text": [
      "[3 9]\n"
     ]
    }
   ],
   "source": []
  },
  {
   "cell_type": "code",
   "execution_count": 54,
   "metadata": {
    "collapsed": false
   },
   "outputs": [
    {
     "name": "stdout",
     "output_type": "stream",
     "text": [
      "[39 -5 -2]\n"
     ]
    }
   ],
   "source": [
    "for i in range(0, csv_data.shape[0]):\n",
    "    if y[i] * calc_func(weights, features[i,:]) <= 0:\n",
    "        weights = weights + y[i] * features[i,]\n",
    "print weights"
   ]
  },
  {
   "cell_type": "code",
   "execution_count": 88,
   "metadata": {
    "collapsed": false
   },
   "outputs": [
    {
     "name": "stdout",
     "output_type": "stream",
     "text": [
      "[12  6]\n"
     ]
    }
   ],
   "source": []
  },
  {
   "cell_type": "code",
   "execution_count": 55,
   "metadata": {
    "collapsed": false
   },
   "outputs": [
    {
     "name": "stdout",
     "output_type": "stream",
     "text": [
      "[39 -5 -2]\n"
     ]
    }
   ],
   "source": [
    "for i in range(0, csv_data.shape[0]):\n",
    "    if y[i] * calc_func(weights, features[i,:]) <= 0:\n",
    "        weights = weights + y[i] * features[i,]\n",
    "print weights"
   ]
  },
  {
   "cell_type": "code",
   "execution_count": 25,
   "metadata": {
    "collapsed": false
   },
   "outputs": [
    {
     "name": "stdout",
     "output_type": "stream",
     "text": [
      "[12  6  1]\n"
     ]
    }
   ],
   "source": [
    "for i in range(0, csv_data.shape[0]):\n",
    "    if y[i] * calc_func(weights, features[i,:]) <= 0:\n",
    "        weights = weights + y[i] * features[i,]\n",
    "print weights"
   ]
  },
  {
   "cell_type": "code",
   "execution_count": 26,
   "metadata": {
    "collapsed": false
   },
   "outputs": [
    {
     "name": "stdout",
     "output_type": "stream",
     "text": [
      "[15  7  9]\n"
     ]
    }
   ],
   "source": [
    "for i in range(0, csv_data.shape[0]):\n",
    "    if y[i] * calc_func(weights, features[i,:]) <= 0:\n",
    "        weights = weights + y[i] * features[i,]\n",
    "print weights"
   ]
  },
  {
   "cell_type": "code",
   "execution_count": 27,
   "metadata": {
    "collapsed": false
   },
   "outputs": [
    {
     "name": "stdout",
     "output_type": "stream",
     "text": [
      "[16  5  2]\n"
     ]
    }
   ],
   "source": [
    "for i in range(0, csv_data.shape[0]):\n",
    "    if y[i] * calc_func(weights, features[i,:]) <= 0:\n",
    "        weights = weights + y[i] * features[i,]\n",
    "print weights"
   ]
  },
  {
   "cell_type": "code",
   "execution_count": 28,
   "metadata": {
    "collapsed": false
   },
   "outputs": [
    {
     "name": "stdout",
     "output_type": "stream",
     "text": [
      "[18  5 -1]\n"
     ]
    }
   ],
   "source": [
    "for i in range(0, csv_data.shape[0]):\n",
    "    if y[i] * calc_func(weights, features[i,:]) <= 0:\n",
    "        weights = weights + y[i] * features[i,]\n",
    "print weights"
   ]
  },
  {
   "cell_type": "code",
   "execution_count": 29,
   "metadata": {
    "collapsed": false
   },
   "outputs": [
    {
     "name": "stdout",
     "output_type": "stream",
     "text": [
      "[21  6  7]\n"
     ]
    }
   ],
   "source": [
    "for i in range(0, csv_data.shape[0]):\n",
    "    if y[i] * calc_func(weights, features[i,:]) <= 0:\n",
    "        weights = weights + y[i] * features[i,]\n",
    "print weights"
   ]
  },
  {
   "cell_type": "code",
   "execution_count": 30,
   "metadata": {
    "collapsed": false
   },
   "outputs": [
    {
     "name": "stdout",
     "output_type": "stream",
     "text": [
      "[23  3  8]\n"
     ]
    }
   ],
   "source": [
    "for i in range(0, csv_data.shape[0]):\n",
    "    if y[i] * calc_func(weights, features[i,:]) <= 0:\n",
    "        weights = weights + y[i] * features[i,]\n",
    "print weights"
   ]
  },
  {
   "cell_type": "code",
   "execution_count": 31,
   "metadata": {
    "collapsed": false
   },
   "outputs": [
    {
     "name": "stdout",
     "output_type": "stream",
     "text": [
      "[24 -1 -2]\n"
     ]
    }
   ],
   "source": [
    "for i in range(0, csv_data.shape[0]):\n",
    "    if y[i] * calc_func(weights, features[i,:]) <= 0:\n",
    "        weights = weights + y[i] * features[i,]\n",
    "print weights"
   ]
  },
  {
   "cell_type": "code",
   "execution_count": 32,
   "metadata": {
    "collapsed": false
   },
   "outputs": [
    {
     "name": "stdout",
     "output_type": "stream",
     "text": [
      "[26  2  7]\n"
     ]
    }
   ],
   "source": [
    "for i in range(0, csv_data.shape[0]):\n",
    "    if y[i] * calc_func(weights, features[i,:]) <= 0:\n",
    "        weights = weights + y[i] * features[i,]\n",
    "print weights"
   ]
  },
  {
   "cell_type": "code",
   "execution_count": 33,
   "metadata": {
    "collapsed": false
   },
   "outputs": [
    {
     "name": "stdout",
     "output_type": "stream",
     "text": [
      "[28  3  3]\n"
     ]
    }
   ],
   "source": [
    "for i in range(0, csv_data.shape[0]):\n",
    "    if y[i] * calc_func(weights, features[i,:]) <= 0:\n",
    "        weights = weights + y[i] * features[i,]\n",
    "print weights"
   ]
  },
  {
   "cell_type": "code",
   "execution_count": 34,
   "metadata": {
    "collapsed": false
   },
   "outputs": [
    {
     "name": "stdout",
     "output_type": "stream",
     "text": [
      "[30  3  6]\n"
     ]
    }
   ],
   "source": [
    "for i in range(0, csv_data.shape[0]):\n",
    "    if y[i] * calc_func(weights, features[i,:]) <= 0:\n",
    "        weights = weights + y[i] * features[i,]\n",
    "print weights"
   ]
  },
  {
   "cell_type": "code",
   "execution_count": 35,
   "metadata": {
    "collapsed": false
   },
   "outputs": [
    {
     "name": "stdout",
     "output_type": "stream",
     "text": [
      "[32  0  7]\n"
     ]
    }
   ],
   "source": [
    "for i in range(0, csv_data.shape[0]):\n",
    "    if y[i] * calc_func(weights, features[i,:]) <= 0:\n",
    "        weights = weights + y[i] * features[i,]\n",
    "print weights"
   ]
  },
  {
   "cell_type": "code",
   "execution_count": 36,
   "metadata": {
    "collapsed": false
   },
   "outputs": [
    {
     "name": "stdout",
     "output_type": "stream",
     "text": [
      "[34  1  3]\n"
     ]
    }
   ],
   "source": [
    "for i in range(0, csv_data.shape[0]):\n",
    "    if y[i] * calc_func(weights, features[i,:]) <= 0:\n",
    "        weights = weights + y[i] * features[i,]\n",
    "print weights"
   ]
  },
  {
   "cell_type": "code",
   "execution_count": 37,
   "metadata": {
    "collapsed": false
   },
   "outputs": [
    {
     "name": "stdout",
     "output_type": "stream",
     "text": [
      "[36  1  6]\n"
     ]
    }
   ],
   "source": [
    "for i in range(0, csv_data.shape[0]):\n",
    "    if y[i] * calc_func(weights, features[i,:]) <= 0:\n",
    "        weights = weights + y[i] * features[i,]\n",
    "print weights"
   ]
  },
  {
   "cell_type": "code",
   "execution_count": 38,
   "metadata": {
    "collapsed": false
   },
   "outputs": [
    {
     "name": "stdout",
     "output_type": "stream",
     "text": [
      "[38  2  2]\n"
     ]
    }
   ],
   "source": [
    "for i in range(0, csv_data.shape[0]):\n",
    "    if y[i] * calc_func(weights, features[i,:]) <= 0:\n",
    "        weights = weights + y[i] * features[i,]\n",
    "print weights"
   ]
  },
  {
   "cell_type": "code",
   "execution_count": 39,
   "metadata": {
    "collapsed": false
   },
   "outputs": [
    {
     "name": "stdout",
     "output_type": "stream",
     "text": [
      "[40  2  5]\n"
     ]
    }
   ],
   "source": [
    "for i in range(0, csv_data.shape[0]):\n",
    "    if y[i] * calc_func(weights, features[i,:]) <= 0:\n",
    "        weights = weights + y[i] * features[i,]\n",
    "print weights"
   ]
  },
  {
   "cell_type": "code",
   "execution_count": 40,
   "metadata": {
    "collapsed": false
   },
   "outputs": [
    {
     "name": "stdout",
     "output_type": "stream",
     "text": [
      "[39 -5 -2]\n"
     ]
    }
   ],
   "source": [
    "for i in range(0, csv_data.shape[0]):\n",
    "    if y[i] * calc_func(weights, features[i,:]) <= 0:\n",
    "        weights = weights + y[i] * features[i,]\n",
    "print weights"
   ]
  },
  {
   "cell_type": "code",
   "execution_count": 41,
   "metadata": {
    "collapsed": false
   },
   "outputs": [
    {
     "name": "stdout",
     "output_type": "stream",
     "text": [
      "[39 -5 -2]\n"
     ]
    }
   ],
   "source": [
    "for i in range(0, csv_data.shape[0]):\n",
    "    if y[i] * calc_func(weights, features[i,:]) <= 0:\n",
    "        weights = weights + y[i] * features[i,]\n",
    "print weights"
   ]
  },
  {
   "cell_type": "code",
   "execution_count": 42,
   "metadata": {
    "collapsed": false
   },
   "outputs": [
    {
     "name": "stdout",
     "output_type": "stream",
     "text": [
      "[39 -5 -2]\n"
     ]
    }
   ],
   "source": [
    "for i in range(0, csv_data.shape[0]):\n",
    "    if y[i] * calc_func(weights, features[i,:]) <= 0:\n",
    "        weights = weights + y[i] * features[i,]\n",
    "print weights"
   ]
  },
  {
   "cell_type": "code",
   "execution_count": 121,
   "metadata": {
    "collapsed": false
   },
   "outputs": [
    {
     "name": "stdout",
     "output_type": "stream",
     "text": [
      "[7 9]\n"
     ]
    }
   ],
   "source": [
    "for i in range(0, csv_data.shape[0]):\n",
    "    if y[i] * calc_func(weights, features[i,:]) <= 0:\n",
    "        weights = weights + y[i] * features[i,]\n",
    "print weights"
   ]
  },
  {
   "cell_type": "code",
   "execution_count": 122,
   "metadata": {
    "collapsed": false
   },
   "outputs": [
    {
     "name": "stdout",
     "output_type": "stream",
     "text": [
      "[ 4 10]\n"
     ]
    }
   ],
   "source": [
    "for i in range(0, csv_data.shape[0]):\n",
    "    if y[i] * calc_func(weights, features[i,:]) <= 0:\n",
    "        weights = weights + y[i] * features[i,]\n",
    "print weights"
   ]
  },
  {
   "cell_type": "code",
   "execution_count": 123,
   "metadata": {
    "collapsed": false
   },
   "outputs": [
    {
     "name": "stdout",
     "output_type": "stream",
     "text": [
      "[13  7]\n"
     ]
    }
   ],
   "source": [
    "for i in range(0, csv_data.shape[0]):\n",
    "    if y[i] * calc_func(weights, features[i,:]) <= 0:\n",
    "        weights = weights + y[i] * features[i,]\n",
    "print weights"
   ]
  },
  {
   "cell_type": "code",
   "execution_count": 124,
   "metadata": {
    "collapsed": false
   },
   "outputs": [
    {
     "name": "stdout",
     "output_type": "stream",
     "text": [
      "[7 2]\n"
     ]
    }
   ],
   "source": [
    "for i in range(0, csv_data.shape[0]):\n",
    "    if y[i] * calc_func(weights, features[i,:]) <= 0:\n",
    "        weights = weights + y[i] * features[i,]\n",
    "print weights"
   ]
  },
  {
   "cell_type": "code",
   "execution_count": 125,
   "metadata": {
    "collapsed": false
   },
   "outputs": [
    {
     "name": "stdout",
     "output_type": "stream",
     "text": [
      "[ 8 10]\n"
     ]
    }
   ],
   "source": [
    "for i in range(0, csv_data.shape[0]):\n",
    "    if y[i] * calc_func(weights, features[i,:]) <= 0:\n",
    "        weights = weights + y[i] * features[i,]\n",
    "print weights"
   ]
  },
  {
   "cell_type": "code",
   "execution_count": 126,
   "metadata": {
    "collapsed": false
   },
   "outputs": [
    {
     "name": "stdout",
     "output_type": "stream",
     "text": [
      "[4 0]\n"
     ]
    }
   ],
   "source": [
    "for i in range(0, csv_data.shape[0]):\n",
    "    if y[i] * calc_func(weights, features[i,:]) <= 0:\n",
    "        weights = weights + y[i] * features[i,]\n",
    "print weights"
   ]
  },
  {
   "cell_type": "code",
   "execution_count": 127,
   "metadata": {
    "collapsed": false
   },
   "outputs": [
    {
     "name": "stdout",
     "output_type": "stream",
     "text": [
      "[7 9]\n"
     ]
    }
   ],
   "source": [
    "for i in range(0, csv_data.shape[0]):\n",
    "    if y[i] * calc_func(weights, features[i,:]) <= 0:\n",
    "        weights = weights + y[i] * features[i,]\n",
    "print weights"
   ]
  },
  {
   "cell_type": "code",
   "execution_count": 128,
   "metadata": {
    "collapsed": false
   },
   "outputs": [
    {
     "name": "stdout",
     "output_type": "stream",
     "text": [
      "[ 4 10]\n"
     ]
    }
   ],
   "source": [
    "for i in range(0, csv_data.shape[0]):\n",
    "    if y[i] * calc_func(weights, features[i,:]) <= 0:\n",
    "        weights = weights + y[i] * features[i,]\n",
    "print weights"
   ]
  },
  {
   "cell_type": "code",
   "execution_count": 129,
   "metadata": {
    "collapsed": false
   },
   "outputs": [
    {
     "name": "stdout",
     "output_type": "stream",
     "text": [
      "[13  7]\n"
     ]
    }
   ],
   "source": [
    "for i in range(0, csv_data.shape[0]):\n",
    "    if y[i] * calc_func(weights, features[i,:]) <= 0:\n",
    "        weights = weights + y[i] * features[i,]\n",
    "print weights"
   ]
  },
  {
   "cell_type": "code",
   "execution_count": 130,
   "metadata": {
    "collapsed": false
   },
   "outputs": [
    {
     "name": "stdout",
     "output_type": "stream",
     "text": [
      "[7 2]\n"
     ]
    }
   ],
   "source": [
    "for i in range(0, csv_data.shape[0]):\n",
    "    if y[i] * calc_func(weights, features[i,:]) <= 0:\n",
    "        weights = weights + y[i] * features[i,]\n",
    "print weights"
   ]
  },
  {
   "cell_type": "code",
   "execution_count": 131,
   "metadata": {
    "collapsed": false
   },
   "outputs": [
    {
     "name": "stdout",
     "output_type": "stream",
     "text": [
      "[ 8 10]\n"
     ]
    }
   ],
   "source": [
    "for i in range(0, csv_data.shape[0]):\n",
    "    if y[i] * calc_func(weights, features[i,:]) <= 0:\n",
    "        weights = weights + y[i] * features[i,]\n",
    "print weights"
   ]
  },
  {
   "cell_type": "code",
   "execution_count": 132,
   "metadata": {
    "collapsed": false
   },
   "outputs": [
    {
     "name": "stdout",
     "output_type": "stream",
     "text": [
      "[4 0]\n"
     ]
    }
   ],
   "source": [
    "for i in range(0, csv_data.shape[0]):\n",
    "    if y[i] * calc_func(weights, features[i,:]) <= 0:\n",
    "        weights = weights + y[i] * features[i,]\n",
    "print weights"
   ]
  },
  {
   "cell_type": "code",
   "execution_count": 133,
   "metadata": {
    "collapsed": false
   },
   "outputs": [
    {
     "name": "stdout",
     "output_type": "stream",
     "text": [
      "[7 9]\n"
     ]
    }
   ],
   "source": [
    "for i in range(0, csv_data.shape[0]):\n",
    "    if y[i] * calc_func(weights, features[i,:]) <= 0:\n",
    "        weights = weights + y[i] * features[i,]\n",
    "print weights"
   ]
  },
  {
   "cell_type": "code",
   "execution_count": 134,
   "metadata": {
    "collapsed": false
   },
   "outputs": [
    {
     "name": "stdout",
     "output_type": "stream",
     "text": [
      "[ 4 10]\n"
     ]
    }
   ],
   "source": [
    "for i in range(0, csv_data.shape[0]):\n",
    "    if y[i] * calc_func(weights, features[i,:]) <= 0:\n",
    "        weights = weights + y[i] * features[i,]\n",
    "print weights"
   ]
  },
  {
   "cell_type": "code",
   "execution_count": 135,
   "metadata": {
    "collapsed": false
   },
   "outputs": [
    {
     "name": "stdout",
     "output_type": "stream",
     "text": [
      "[13  7]\n"
     ]
    }
   ],
   "source": [
    "for i in range(0, csv_data.shape[0]):\n",
    "    if y[i] * calc_func(weights, features[i,:]) <= 0:\n",
    "        weights = weights + y[i] * features[i,]\n",
    "print weights"
   ]
  },
  {
   "cell_type": "code",
   "execution_count": 136,
   "metadata": {
    "collapsed": false
   },
   "outputs": [
    {
     "name": "stdout",
     "output_type": "stream",
     "text": [
      "[7 2]\n"
     ]
    }
   ],
   "source": [
    "for i in range(0, csv_data.shape[0]):\n",
    "    if y[i] * calc_func(weights, features[i,:]) <= 0:\n",
    "        weights = weights + y[i] * features[i,]\n",
    "print weights"
   ]
  },
  {
   "cell_type": "code",
   "execution_count": 137,
   "metadata": {
    "collapsed": false
   },
   "outputs": [
    {
     "name": "stdout",
     "output_type": "stream",
     "text": [
      "[ 8 10]\n"
     ]
    }
   ],
   "source": [
    "for i in range(0, csv_data.shape[0]):\n",
    "    if y[i] * calc_func(weights, features[i,:]) <= 0:\n",
    "        weights = weights + y[i] * features[i,]\n",
    "print weights"
   ]
  },
  {
   "cell_type": "code",
   "execution_count": 138,
   "metadata": {
    "collapsed": false
   },
   "outputs": [
    {
     "name": "stdout",
     "output_type": "stream",
     "text": [
      "[4 0]\n"
     ]
    }
   ],
   "source": [
    "for i in range(0, csv_data.shape[0]):\n",
    "    if y[i] * calc_func(weights, features[i,:]) <= 0:\n",
    "        weights = weights + y[i] * features[i,]\n",
    "print weights"
   ]
  },
  {
   "cell_type": "code",
   "execution_count": 139,
   "metadata": {
    "collapsed": false
   },
   "outputs": [
    {
     "name": "stdout",
     "output_type": "stream",
     "text": [
      "[7 9]\n"
     ]
    }
   ],
   "source": [
    "for i in range(0, csv_data.shape[0]):\n",
    "    if y[i] * calc_func(weights, features[i,:]) <= 0:\n",
    "        weights = weights + y[i] * features[i,]\n",
    "print weights"
   ]
  },
  {
   "cell_type": "code",
   "execution_count": 140,
   "metadata": {
    "collapsed": false
   },
   "outputs": [
    {
     "name": "stdout",
     "output_type": "stream",
     "text": [
      "[ 4 10]\n"
     ]
    }
   ],
   "source": [
    "for i in range(0, csv_data.shape[0]):\n",
    "    if y[i] * calc_func(weights, features[i,:]) <= 0:\n",
    "        weights = weights + y[i] * features[i,]\n",
    "print weights"
   ]
  },
  {
   "cell_type": "code",
   "execution_count": 141,
   "metadata": {
    "collapsed": false
   },
   "outputs": [
    {
     "name": "stdout",
     "output_type": "stream",
     "text": [
      "[13  7]\n"
     ]
    }
   ],
   "source": [
    "for i in range(0, csv_data.shape[0]):\n",
    "    if y[i] * calc_func(weights, features[i,:]) <= 0:\n",
    "        weights = weights + y[i] * features[i,]\n",
    "print weights"
   ]
  },
  {
   "cell_type": "code",
   "execution_count": 142,
   "metadata": {
    "collapsed": false
   },
   "outputs": [
    {
     "name": "stdout",
     "output_type": "stream",
     "text": [
      "[7 2]\n"
     ]
    }
   ],
   "source": [
    "for i in range(0, csv_data.shape[0]):\n",
    "    if y[i] * calc_func(weights, features[i,:]) <= 0:\n",
    "        weights = weights + y[i] * features[i,]\n",
    "print weights"
   ]
  },
  {
   "cell_type": "code",
   "execution_count": 143,
   "metadata": {
    "collapsed": false
   },
   "outputs": [
    {
     "name": "stdout",
     "output_type": "stream",
     "text": [
      "[ 8 10]\n"
     ]
    }
   ],
   "source": [
    "for i in range(0, csv_data.shape[0]):\n",
    "    if y[i] * calc_func(weights, features[i,:]) <= 0:\n",
    "        weights = weights + y[i] * features[i,]\n",
    "print weights"
   ]
  },
  {
   "cell_type": "code",
   "execution_count": 144,
   "metadata": {
    "collapsed": false
   },
   "outputs": [
    {
     "name": "stdout",
     "output_type": "stream",
     "text": [
      "[4 0]\n"
     ]
    }
   ],
   "source": [
    "for i in range(0, csv_data.shape[0]):\n",
    "    if y[i] * calc_func(weights, features[i,:]) <= 0:\n",
    "        weights = weights + y[i] * features[i,]\n",
    "print weights"
   ]
  },
  {
   "cell_type": "code",
   "execution_count": 145,
   "metadata": {
    "collapsed": false
   },
   "outputs": [
    {
     "name": "stdout",
     "output_type": "stream",
     "text": [
      "[7 9]\n"
     ]
    }
   ],
   "source": [
    "for i in range(0, csv_data.shape[0]):\n",
    "    if y[i] * calc_func(weights, features[i,:]) <= 0:\n",
    "        weights = weights + y[i] * features[i,]\n",
    "print weights"
   ]
  },
  {
   "cell_type": "code",
   "execution_count": null,
   "metadata": {
    "collapsed": true
   },
   "outputs": [],
   "source": []
  }
 ],
 "metadata": {
  "kernelspec": {
   "display_name": "Python 2",
   "language": "python",
   "name": "python2"
  },
  "language_info": {
   "codemirror_mode": {
    "name": "ipython",
    "version": 2
   },
   "file_extension": ".py",
   "mimetype": "text/x-python",
   "name": "python",
   "nbconvert_exporter": "python",
   "pygments_lexer": "ipython2",
   "version": "2.7.13"
  }
 },
 "nbformat": 4,
 "nbformat_minor": 2
}
